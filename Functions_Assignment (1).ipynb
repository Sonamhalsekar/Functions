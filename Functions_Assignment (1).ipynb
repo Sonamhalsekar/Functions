{
  "nbformat": 4,
  "nbformat_minor": 0,
  "metadata": {
    "colab": {
      "provenance": []
    },
    "kernelspec": {
      "name": "python3",
      "display_name": "Python 3"
    },
    "language_info": {
      "name": "python"
    }
  },
  "cells": [
    {
      "cell_type": "markdown",
      "source": [
        "1. What is the difference between a function and a method in Python?\n",
        " - A function is a structured, reusable code block utilized for carrying out a specific task. Functions facilitate the creation of modular code, simplifying maintenance and reusability. It is defined using the def keyword and can be used independently. On the other hand, a method is a function that is associated with an object and is called using dot (.) notation. Methods are defined within a class and operate on the data (attributes) of the object.\n",
        "\n",
        "\n"
      ],
      "metadata": {
        "id": "ZqOwpvq9Fsov"
      }
    },
    {
      "cell_type": "code",
      "source": [
        "# Example 1.\n",
        "# Function\n",
        "def greet(name):\n",
        "    return \"Hello \" + name\n",
        "\n",
        "print(greet(\"Raj\"))\n",
        "\n",
        "# Method\n",
        "message = \"hello\"\n",
        "print(message.upper())"
      ],
      "metadata": {
        "colab": {
          "base_uri": "https://localhost:8080/"
        },
        "id": "pra_mc28GXFl",
        "outputId": "744f8f32-5bcb-4eed-a679-8388aa249b43"
      },
      "execution_count": 31,
      "outputs": [
        {
          "output_type": "stream",
          "name": "stdout",
          "text": [
            "Hello Raj\n",
            "HELLO\n"
          ]
        }
      ]
    },
    {
      "cell_type": "markdown",
      "source": [
        "2. Explain the concept of function arguments and parameters in Python.\n",
        " -  the concepts of function arguments and parameters are fundamental to defining and using functions. Parameters are the variable names listed in the function definition and act as placeholders for the values that the function will receive. Arguments, on the other hand, are the actual values or data you pass to the function when calling it."
      ],
      "metadata": {
        "id": "dvCcq35jGkDQ"
      }
    },
    {
      "cell_type": "code",
      "source": [
        "# Example 2.\n",
        "# Function with parameters\n",
        "def add(a, b):\n",
        "    return a + b\n",
        "\n",
        "# Function call with arguments\n",
        "result = add(5, 3)\n",
        "print(result)\n"
      ],
      "metadata": {
        "colab": {
          "base_uri": "https://localhost:8080/"
        },
        "id": "mOzdnm4eGsbe",
        "outputId": "056e0860-e924-4c2f-982f-98807f2d337a"
      },
      "execution_count": 32,
      "outputs": [
        {
          "output_type": "stream",
          "name": "stdout",
          "text": [
            "8\n"
          ]
        }
      ]
    },
    {
      "cell_type": "markdown",
      "source": [
        "3. What are the different ways to define and call a function in Python?\n",
        " - functions can be defined and called in several ways to suit different programming needs. The most common way is to define a function using the def keyword with parameters, and then call it by passing arguments. You can also define functions with default parameters, allowing you to call the function without providing all arguments. Python supports returning values from functions using the return statement."
      ],
      "metadata": {
        "id": "yssaEVNjHHhT"
      }
    },
    {
      "cell_type": "code",
      "source": [
        "# Example 3.\n",
        "def greet(name):\n",
        "    print(\"Hello\", name)\n",
        "\n",
        "greet(\"Raj\")\n"
      ],
      "metadata": {
        "colab": {
          "base_uri": "https://localhost:8080/"
        },
        "id": "YkUNcfogHbcj",
        "outputId": "f2fb44a5-b6bd-490e-d810-d27bc3cde726"
      },
      "execution_count": 33,
      "outputs": [
        {
          "output_type": "stream",
          "name": "stdout",
          "text": [
            "Hello Raj\n"
          ]
        }
      ]
    },
    {
      "cell_type": "markdown",
      "source": [
        "4. What is the purpose of the `return` statement in a Python function?\n",
        " - The return statement is used in a function to send the result back to the caller. It ends the function's execution and provides the output that can be stored or used further.  "
      ],
      "metadata": {
        "id": "bumNdzJFHw_t"
      }
    },
    {
      "cell_type": "code",
      "source": [
        "# Example 4.\n",
        "def square(num):\n",
        "    return num * num\n",
        "\n",
        "result = square(4)\n",
        "print(result)\n"
      ],
      "metadata": {
        "colab": {
          "base_uri": "https://localhost:8080/"
        },
        "id": "jTZkyse8IDxz",
        "outputId": "3b1b5dd0-9843-45a5-b806-b3663360c4fe"
      },
      "execution_count": 34,
      "outputs": [
        {
          "output_type": "stream",
          "name": "stdout",
          "text": [
            "16\n"
          ]
        }
      ]
    },
    {
      "cell_type": "markdown",
      "source": [
        "5.  What are iterators in Python and how do they differ from iterables?\n",
        " - An iterable is any object that can be looped over (like lists, strings, tuples). It has an __iter__() method that returns an iterator. An iterator is an object that keeps state and produces the next value when you call next() on it. It implements both __iter__() and __next__() methods."
      ],
      "metadata": {
        "id": "XuTyxE-LIKYf"
      }
    },
    {
      "cell_type": "code",
      "source": [
        "# Example 5.\n",
        "# Iterable\n",
        "my_list = [1, 2, 3]\n",
        "it = iter(my_list)\n",
        "\n",
        "# Iterator\n",
        "print(next(it))\n",
        "print(next(it))"
      ],
      "metadata": {
        "colab": {
          "base_uri": "https://localhost:8080/"
        },
        "id": "il-lfbTfIKDW",
        "outputId": "c46929da-9611-4818-cffa-353fc2075305"
      },
      "execution_count": 35,
      "outputs": [
        {
          "output_type": "stream",
          "name": "stdout",
          "text": [
            "1\n",
            "2\n"
          ]
        }
      ]
    },
    {
      "cell_type": "markdown",
      "source": [
        "6.  Explain the concept of generators in Python and how they are defined\n",
        " - A generator in Python is a special type of function that allows you to generate values one at a time using the yield keyword instead of return. Generators are memory-efficient because they do not store all values in memory, they produce them on the fly when requested."
      ],
      "metadata": {
        "id": "g9M2LyeAIihj"
      }
    },
    {
      "cell_type": "code",
      "source": [
        "# Example 6.\n",
        "def count_up():\n",
        "    num = 1\n",
        "    while num <= 3:\n",
        "        yield num\n",
        "        num += 1\n",
        "gen = count_up()\n",
        "print(next(gen))\n",
        "print(next(gen))\n"
      ],
      "metadata": {
        "colab": {
          "base_uri": "https://localhost:8080/"
        },
        "id": "p-aqnrX4IyXC",
        "outputId": "30dcbc41-37f9-4598-a998-dde0ae4bb86a"
      },
      "execution_count": 36,
      "outputs": [
        {
          "output_type": "stream",
          "name": "stdout",
          "text": [
            "1\n",
            "2\n"
          ]
        }
      ]
    },
    {
      "cell_type": "markdown",
      "source": [
        "7. What are the advantages of using generators over regular functions?\n",
        " -  Generators in Python are memory-efficient functions that use yield to produce values one at a time. Unlike regular functions that return all data at once, generators generate values only when needed, making them ideal for large or infinite data sets. They improve performance and keep the code clean and efficient."
      ],
      "metadata": {
        "id": "x3RSd4njI71j"
      }
    },
    {
      "cell_type": "code",
      "source": [
        "#Example 7.\n",
        "def get_numbers():\n",
        "    return [i for i in range(1000000)]\n",
        "\n",
        "nums = get_numbers()\n"
      ],
      "metadata": {
        "id": "y3TrT9zXJLNp"
      },
      "execution_count": 37,
      "outputs": []
    },
    {
      "cell_type": "markdown",
      "source": [
        "8. What is a lambda function in Python and when is it typically used?\n",
        " - A Lambda functions are small, anonymous functions defined using the lambda keyword. They are used for creating small, throwaway functions without the need to formally define a function using def. Lambda functions are typically used for short, simple operations — especially when you need a function for a short period\n",
        "\n",
        "\n"
      ],
      "metadata": {
        "id": "ThgtN615JX7v"
      }
    },
    {
      "cell_type": "code",
      "source": [
        "# Example 8.\n",
        "square = lambda x: x * x\n",
        "print(square(5))"
      ],
      "metadata": {
        "colab": {
          "base_uri": "https://localhost:8080/"
        },
        "id": "MX9E3x6XKRIk",
        "outputId": "f7d8a578-cae1-4afc-d5ab-6dbe322ccdcd"
      },
      "execution_count": 38,
      "outputs": [
        {
          "output_type": "stream",
          "name": "stdout",
          "text": [
            "25\n"
          ]
        }
      ]
    },
    {
      "cell_type": "markdown",
      "source": [
        "9. Explain the purpose and usage of the `map()` function in Python.\n",
        " - The map function applies a given function to all items in an input iterable (like a list) and returns an iterator with the results.The map() function is used to apply a function to each item in an iterable (like a list or tuple) and returns a new map object (which is an iterator) with the results.\n",
        "\n"
      ],
      "metadata": {
        "id": "L_UW6GpNKb2W"
      }
    },
    {
      "cell_type": "code",
      "source": [
        "# Example 9.\n",
        "nums = [1, 2, 3, 4]\n",
        "squared = map(lambda x: x * x, nums)\n",
        "print(list(squared))\n"
      ],
      "metadata": {
        "colab": {
          "base_uri": "https://localhost:8080/"
        },
        "id": "9oyBlg3HKyYh",
        "outputId": "af329821-5387-42cb-c303-cfe102948db1"
      },
      "execution_count": 39,
      "outputs": [
        {
          "output_type": "stream",
          "name": "stdout",
          "text": [
            "[1, 4, 9, 16]\n"
          ]
        }
      ]
    },
    {
      "cell_type": "markdown",
      "source": [
        "10. What is the difference between `map()`, `reduce()`, and `filter()` functions in Python?\n",
        " - map() is used to apply a function to each item in an iterable, filter() selects items based on a condition, and reduce() combines all items into a single value. They help in processing data efficiently using functional programming."
      ],
      "metadata": {
        "id": "7k5jrDDJLAqC"
      }
    },
    {
      "cell_type": "code",
      "source": [
        "# Example 10.\n",
        "from functools import reduce\n",
        "\n",
        "nums = [1, 2, 3, 4, 5]\n",
        "\n",
        "# map: square each number\n",
        "squared = list(map(lambda x: x**2, nums))\n",
        "\n",
        "# filter: keep only even numbers\n",
        "evens = list(filter(lambda x: x % 2 == 0, nums))\n",
        "\n",
        "# reduce: calculate the product of all numbers\n",
        "product = reduce(lambda x, y: x * y, nums)\n",
        "\n",
        "print(squared)\n",
        "print(evens)\n",
        "print(product)\n"
      ],
      "metadata": {
        "colab": {
          "base_uri": "https://localhost:8080/"
        },
        "id": "bTIe6PgtLAZ5",
        "outputId": "9affe729-174e-45b5-a927-d676aaf9f6a1"
      },
      "execution_count": 40,
      "outputs": [
        {
          "output_type": "stream",
          "name": "stdout",
          "text": [
            "[1, 4, 9, 16, 25]\n",
            "[2, 4]\n",
            "120\n"
          ]
        }
      ]
    },
    {
      "cell_type": "markdown",
      "source": [
        "11.  Using pen & Paper write the internal mechanism for sum operation using  reduce function on this given  list:[47,11,42,13];"
      ],
      "metadata": {
        "id": "EYkkKL0AO_CX"
      }
    },
    {
      "cell_type": "code",
      "source": [
        "# Example 11.\n",
        "from IPython.display import Image\n",
        "from google.colab import files\n",
        "\n",
        "uploaded = files.upload()\n",
        "Image('question.jpg')\n"
      ],
      "metadata": {
        "colab": {
          "base_uri": "https://localhost:8080/",
          "height": 1000
        },
        "id": "bLpDum1SZtuT",
        "outputId": "877e0375-c1e7-4cd1-c9e6-4a250958207c"
      },
      "execution_count": 63,
      "outputs": [
        {
          "output_type": "display_data",
          "data": {
            "text/plain": [
              "<IPython.core.display.HTML object>"
            ],
            "text/html": [
              "\n",
              "     <input type=\"file\" id=\"files-35c8972a-4903-4258-a0ef-6c29c7213c8d\" name=\"files[]\" multiple disabled\n",
              "        style=\"border:none\" />\n",
              "     <output id=\"result-35c8972a-4903-4258-a0ef-6c29c7213c8d\">\n",
              "      Upload widget is only available when the cell has been executed in the\n",
              "      current browser session. Please rerun this cell to enable.\n",
              "      </output>\n",
              "      <script>// Copyright 2017 Google LLC\n",
              "//\n",
              "// Licensed under the Apache License, Version 2.0 (the \"License\");\n",
              "// you may not use this file except in compliance with the License.\n",
              "// You may obtain a copy of the License at\n",
              "//\n",
              "//      http://www.apache.org/licenses/LICENSE-2.0\n",
              "//\n",
              "// Unless required by applicable law or agreed to in writing, software\n",
              "// distributed under the License is distributed on an \"AS IS\" BASIS,\n",
              "// WITHOUT WARRANTIES OR CONDITIONS OF ANY KIND, either express or implied.\n",
              "// See the License for the specific language governing permissions and\n",
              "// limitations under the License.\n",
              "\n",
              "/**\n",
              " * @fileoverview Helpers for google.colab Python module.\n",
              " */\n",
              "(function(scope) {\n",
              "function span(text, styleAttributes = {}) {\n",
              "  const element = document.createElement('span');\n",
              "  element.textContent = text;\n",
              "  for (const key of Object.keys(styleAttributes)) {\n",
              "    element.style[key] = styleAttributes[key];\n",
              "  }\n",
              "  return element;\n",
              "}\n",
              "\n",
              "// Max number of bytes which will be uploaded at a time.\n",
              "const MAX_PAYLOAD_SIZE = 100 * 1024;\n",
              "\n",
              "function _uploadFiles(inputId, outputId) {\n",
              "  const steps = uploadFilesStep(inputId, outputId);\n",
              "  const outputElement = document.getElementById(outputId);\n",
              "  // Cache steps on the outputElement to make it available for the next call\n",
              "  // to uploadFilesContinue from Python.\n",
              "  outputElement.steps = steps;\n",
              "\n",
              "  return _uploadFilesContinue(outputId);\n",
              "}\n",
              "\n",
              "// This is roughly an async generator (not supported in the browser yet),\n",
              "// where there are multiple asynchronous steps and the Python side is going\n",
              "// to poll for completion of each step.\n",
              "// This uses a Promise to block the python side on completion of each step,\n",
              "// then passes the result of the previous step as the input to the next step.\n",
              "function _uploadFilesContinue(outputId) {\n",
              "  const outputElement = document.getElementById(outputId);\n",
              "  const steps = outputElement.steps;\n",
              "\n",
              "  const next = steps.next(outputElement.lastPromiseValue);\n",
              "  return Promise.resolve(next.value.promise).then((value) => {\n",
              "    // Cache the last promise value to make it available to the next\n",
              "    // step of the generator.\n",
              "    outputElement.lastPromiseValue = value;\n",
              "    return next.value.response;\n",
              "  });\n",
              "}\n",
              "\n",
              "/**\n",
              " * Generator function which is called between each async step of the upload\n",
              " * process.\n",
              " * @param {string} inputId Element ID of the input file picker element.\n",
              " * @param {string} outputId Element ID of the output display.\n",
              " * @return {!Iterable<!Object>} Iterable of next steps.\n",
              " */\n",
              "function* uploadFilesStep(inputId, outputId) {\n",
              "  const inputElement = document.getElementById(inputId);\n",
              "  inputElement.disabled = false;\n",
              "\n",
              "  const outputElement = document.getElementById(outputId);\n",
              "  outputElement.innerHTML = '';\n",
              "\n",
              "  const pickedPromise = new Promise((resolve) => {\n",
              "    inputElement.addEventListener('change', (e) => {\n",
              "      resolve(e.target.files);\n",
              "    });\n",
              "  });\n",
              "\n",
              "  const cancel = document.createElement('button');\n",
              "  inputElement.parentElement.appendChild(cancel);\n",
              "  cancel.textContent = 'Cancel upload';\n",
              "  const cancelPromise = new Promise((resolve) => {\n",
              "    cancel.onclick = () => {\n",
              "      resolve(null);\n",
              "    };\n",
              "  });\n",
              "\n",
              "  // Wait for the user to pick the files.\n",
              "  const files = yield {\n",
              "    promise: Promise.race([pickedPromise, cancelPromise]),\n",
              "    response: {\n",
              "      action: 'starting',\n",
              "    }\n",
              "  };\n",
              "\n",
              "  cancel.remove();\n",
              "\n",
              "  // Disable the input element since further picks are not allowed.\n",
              "  inputElement.disabled = true;\n",
              "\n",
              "  if (!files) {\n",
              "    return {\n",
              "      response: {\n",
              "        action: 'complete',\n",
              "      }\n",
              "    };\n",
              "  }\n",
              "\n",
              "  for (const file of files) {\n",
              "    const li = document.createElement('li');\n",
              "    li.append(span(file.name, {fontWeight: 'bold'}));\n",
              "    li.append(span(\n",
              "        `(${file.type || 'n/a'}) - ${file.size} bytes, ` +\n",
              "        `last modified: ${\n",
              "            file.lastModifiedDate ? file.lastModifiedDate.toLocaleDateString() :\n",
              "                                    'n/a'} - `));\n",
              "    const percent = span('0% done');\n",
              "    li.appendChild(percent);\n",
              "\n",
              "    outputElement.appendChild(li);\n",
              "\n",
              "    const fileDataPromise = new Promise((resolve) => {\n",
              "      const reader = new FileReader();\n",
              "      reader.onload = (e) => {\n",
              "        resolve(e.target.result);\n",
              "      };\n",
              "      reader.readAsArrayBuffer(file);\n",
              "    });\n",
              "    // Wait for the data to be ready.\n",
              "    let fileData = yield {\n",
              "      promise: fileDataPromise,\n",
              "      response: {\n",
              "        action: 'continue',\n",
              "      }\n",
              "    };\n",
              "\n",
              "    // Use a chunked sending to avoid message size limits. See b/62115660.\n",
              "    let position = 0;\n",
              "    do {\n",
              "      const length = Math.min(fileData.byteLength - position, MAX_PAYLOAD_SIZE);\n",
              "      const chunk = new Uint8Array(fileData, position, length);\n",
              "      position += length;\n",
              "\n",
              "      const base64 = btoa(String.fromCharCode.apply(null, chunk));\n",
              "      yield {\n",
              "        response: {\n",
              "          action: 'append',\n",
              "          file: file.name,\n",
              "          data: base64,\n",
              "        },\n",
              "      };\n",
              "\n",
              "      let percentDone = fileData.byteLength === 0 ?\n",
              "          100 :\n",
              "          Math.round((position / fileData.byteLength) * 100);\n",
              "      percent.textContent = `${percentDone}% done`;\n",
              "\n",
              "    } while (position < fileData.byteLength);\n",
              "  }\n",
              "\n",
              "  // All done.\n",
              "  yield {\n",
              "    response: {\n",
              "      action: 'complete',\n",
              "    }\n",
              "  };\n",
              "}\n",
              "\n",
              "scope.google = scope.google || {};\n",
              "scope.google.colab = scope.google.colab || {};\n",
              "scope.google.colab._files = {\n",
              "  _uploadFiles,\n",
              "  _uploadFilesContinue,\n",
              "};\n",
              "})(self);\n",
              "</script> "
            ]
          },
          "metadata": {}
        },
        {
          "output_type": "stream",
          "name": "stdout",
          "text": [
            "Saving question.jpg to question.jpg\n"
          ]
        },
        {
          "output_type": "execute_result",
          "data": {
            "image/jpeg": "[encoded data removed]",
            "text/plain": [
              "<IPython.core.display.Image object>"
            ]
          },
          "metadata": {},
          "execution_count": 63
        }
      ]
    },
    {
      "cell_type": "code",
      "source": [
        " #1. Write a Python function that takes a list of numbers as input and returns the sum of all even numbers in the list\n",
        "\n",
        "def sum_of_even_numbers(numbers):\n",
        "    return sum(num for num in numbers if num % 2 == 0)\n",
        "\n",
        "nums = [12, 7, 8, 3, 10]\n",
        "result = sum_of_even_numbers(nums)\n",
        "print(\"Sum of even numbers:\", result)\n",
        "\n"
      ],
      "metadata": {
        "colab": {
          "base_uri": "https://localhost:8080/"
        },
        "id": "HnQzA2cGRc9V",
        "outputId": "c0f1c008-6faa-4186-d811-43721034483c"
      },
      "execution_count": 44,
      "outputs": [
        {
          "output_type": "stream",
          "name": "stdout",
          "text": [
            "Sum of even numbers: 30\n"
          ]
        }
      ]
    },
    {
      "cell_type": "code",
      "source": [
        "#2. Create a Python function that accepts a string and returns the reverse of that string.\n",
        "def reverse_string(s):\n",
        "    return s[::-1]\n",
        "input_str = \"hello\"\n",
        "print(\"Reversed string:\", reverse_string(input_str))\n"
      ],
      "metadata": {
        "colab": {
          "base_uri": "https://localhost:8080/"
        },
        "id": "JGu01hYxWGCa",
        "outputId": "3d0c3b92-f62b-42e5-8f20-742de1b81119"
      },
      "execution_count": 46,
      "outputs": [
        {
          "output_type": "stream",
          "name": "stdout",
          "text": [
            "Reversed string: olleh\n"
          ]
        }
      ]
    },
    {
      "cell_type": "code",
      "source": [
        "#3.Implement a Python function that takes a list of integers and returns a new list containing the squares of each number.\n",
        "\n",
        "def square_numbers(numbers):\n",
        "    return [x**2 for x in numbers]\n",
        "\n",
        "input_list = [1, 2, 3, 4, 5]\n",
        "print(\"Squared list:\", square_numbers(input_list))"
      ],
      "metadata": {
        "id": "MNFrqgwISNfz",
        "colab": {
          "base_uri": "https://localhost:8080/"
        },
        "outputId": "67a2a170-816c-4201-e20c-e1e979393170"
      },
      "execution_count": 50,
      "outputs": [
        {
          "output_type": "stream",
          "name": "stdout",
          "text": [
            "Squared list: [1, 4, 9, 16, 25]\n"
          ]
        }
      ]
    },
    {
      "cell_type": "code",
      "source": [
        "#4. Write a Python function that checks if a given number is prime or not from 1 to 200.\n",
        "def is_prime(n):\n",
        "    if n < 2 or n > 200:\n",
        "        return False  # Out of range or not prime\n",
        "    for i in range(2, int(n**0.5) + 1):\n",
        "        if n % i == 0:\n",
        "            return False\n",
        "    return True\n",
        "\n",
        "num = 97\n",
        "if is_prime(num):\n",
        "    print(num, \"is a prime number.\")\n",
        "else:\n",
        "    print(num, \"is not a prime number.\")\n"
      ],
      "metadata": {
        "colab": {
          "base_uri": "https://localhost:8080/"
        },
        "id": "hgI_wfg8W2qK",
        "outputId": "8a831f14-594c-4592-bb22-96cd7e91376b"
      },
      "execution_count": 51,
      "outputs": [
        {
          "output_type": "stream",
          "name": "stdout",
          "text": [
            "97 is a prime number.\n"
          ]
        }
      ]
    },
    {
      "cell_type": "code",
      "source": [
        "#5. Create an iterator class in Python that generates the Fibonacci sequence up to a specified number of terms.\n",
        "class Fibonacci:\n",
        "    def __init__(self, n):\n",
        "        self.n, self.a, self.b, self.count = n, 0, 1, 0\n",
        "\n",
        "    def __iter__(self):\n",
        "        return self\n",
        "\n",
        "    def __next__(self):\n",
        "        if self.count >= self.n:\n",
        "            raise StopIteration\n",
        "        if self.count == 0:\n",
        "            self.count += 1\n",
        "            return 0\n",
        "        self.a, self.b = self.b, self.a + self.b\n",
        "        self.count += 1\n",
        "        return self.a\n",
        "\n",
        "for num in Fibonacci(10):\n",
        "    print(num, end=\" \")\n"
      ],
      "metadata": {
        "colab": {
          "base_uri": "https://localhost:8080/"
        },
        "id": "bWnWD_slXFos",
        "outputId": "c3d75ae0-c4e8-486a-e07b-fe5be75db42f"
      },
      "execution_count": 52,
      "outputs": [
        {
          "output_type": "stream",
          "name": "stdout",
          "text": [
            "0 1 1 2 3 5 8 13 21 34 "
          ]
        }
      ]
    },
    {
      "cell_type": "code",
      "source": [
        "#6. Write a generator function in Python that yields the powers of 2 up to a given exponent.\n",
        "def power_of_two(n):\n",
        "    power = 0\n",
        "    while power <= n:\n",
        "        yield 2 ** power\n",
        "        power += 1\n",
        "\n",
        "for num in power_of_two(5):\n",
        "    print(num)"
      ],
      "metadata": {
        "colab": {
          "base_uri": "https://localhost:8080/"
        },
        "id": "m4TnYM4rXZnY",
        "outputId": "ac0b481e-3d87-4ab1-dd04-68d1465a3cb4"
      },
      "execution_count": 53,
      "outputs": [
        {
          "output_type": "stream",
          "name": "stdout",
          "text": [
            "1\n",
            "2\n",
            "4\n",
            "8\n",
            "16\n",
            "32\n"
          ]
        }
      ]
    },
    {
      "cell_type": "code",
      "source": [
        "#7. Implement a generator function that reads a file line by line and yields each line as a string.\n",
        "def read_file_line_by_line(filename):\n",
        "    with open(filename, 'r') as file:\n",
        "        for line in file:\n",
        "            yield line"
      ],
      "metadata": {
        "id": "LuspvdsIXfoN"
      },
      "execution_count": 55,
      "outputs": []
    },
    {
      "cell_type": "code",
      "source": [
        "#8. Use a lambda function in Python to sort a list of tuples based on the second element of each tuple.\n",
        "data = [('apple', 3), ('banana', 1), ('cherry', 2)]\n",
        "sorted_data = sorted(data, key=lambda x: x[1])\n",
        "print(sorted_data)"
      ],
      "metadata": {
        "colab": {
          "base_uri": "https://localhost:8080/"
        },
        "id": "jicJaWIYXv79",
        "outputId": "fefb99bb-56a7-4f6d-804f-b63f4b06dc8b"
      },
      "execution_count": 56,
      "outputs": [
        {
          "output_type": "stream",
          "name": "stdout",
          "text": [
            "[('banana', 1), ('cherry', 2), ('apple', 3)]\n"
          ]
        }
      ]
    },
    {
      "cell_type": "code",
      "source": [
        "#9. Write a Python program that uses `map()` to convert a list of temperatures from Celsius to Fahrenheit.\n",
        "celsius = [0, 20, 37, 100]\n",
        "fahrenheit = list(map(lambda c: (c * 9/5) + 32, celsius))\n",
        "print(fahrenheit)"
      ],
      "metadata": {
        "colab": {
          "base_uri": "https://localhost:8080/"
        },
        "id": "-v-v6aJWXz56",
        "outputId": "190015ed-a9b8-45e8-88c6-bed61c059bb7"
      },
      "execution_count": 59,
      "outputs": [
        {
          "output_type": "stream",
          "name": "stdout",
          "text": [
            "[32.0, 68.0, 98.6, 212.0]\n"
          ]
        }
      ]
    },
    {
      "cell_type": "code",
      "source": [
        "#10. Create a Python program that uses `filter()` to remove all the vowels from a given string.\n",
        "string = \"Hello, World!\"\n",
        "vowels = 'aeiouAEIOU'\n",
        "filtered_string = ''.join(filter(lambda x: x not in vowels, string))\n",
        "print(filtered_string)"
      ],
      "metadata": {
        "colab": {
          "base_uri": "https://localhost:8080/"
        },
        "id": "8dlYYmpQYMQA",
        "outputId": "cef238d5-d5bc-4804-d38e-4944d3ee3ae2"
      },
      "execution_count": 60,
      "outputs": [
        {
          "output_type": "stream",
          "name": "stdout",
          "text": [
            "Hll, Wrld!\n"
          ]
        }
      ]
    },
    {
      "cell_type": "code",
      "source": [
        "#11.\n",
        "# List of book orders: [Order Number, Book Title, Quantity, Price per Item]\n",
        "orders = [\n",
        "    [34587, \"Learning Python, Mark Lutz\", 4, 40.95],\n",
        "    [98762, \"Programming Python, Mark Lutz\", 5, 56.80],\n",
        "    [77226, \"Head First Python, Paul Barry\", 3, 32.95],\n",
        "    [88112, \"Einführung in Python3, Bernd Klein\", 3, 24.99]\n",
        "]\n",
        "\n",
        "result = list(map(lambda order: (\n",
        "    order[0],\n",
        "    round(order[2] * order[3] + 10, 2) if order[2] * order[3] < 100 else round(order[2] * order[3], 2)\n",
        "), orders))\n",
        "\n",
        "print(result)\n"
      ],
      "metadata": {
        "colab": {
          "base_uri": "https://localhost:8080/"
        },
        "id": "GPBn3aQnYVTo",
        "outputId": "723fa009-6795-450a-accf-aeda0b3e0e44"
      },
      "execution_count": 61,
      "outputs": [
        {
          "output_type": "stream",
          "name": "stdout",
          "text": [
            "[(34587, 163.8), (98762, 284.0), (77226, 108.85), (88112, 84.97)]\n"
          ]
        }
      ]
    }
  ]
}